{
 "cells": [
  {
   "cell_type": "markdown",
   "metadata": {},
   "source": [
    "# O Titão dos Mares\n",
    "O RMS Titanic foi um navio de passageiros britânico operado pela White Star Line e construído pelos estaleiros da Harland and Wolff em Belfast. Foi a segunda embarcação da Classe Olympic de transatlânticos depois do RMS Olympic e seguido pelo HMHS Britannic. Projetado pelos engenheiros navais Alexander Carlisle e Thomas Andrews, sua construção começou em março de 1909 e ele foi lançado ao mar em maio de 1911. O Titanic foi pensado para ser o navio mais luxuoso e mais seguro de sua época, gerando lendas que era supostamente \"inafundável\".\n",
    "\n",
    "### Origem da base...\n",
    "Essa base de dados faz parte do projeto de conclusão do curso de Fundamentos de Data Science I da Udacity, o conjunto de dados tem sua origem no site do Kaggle, de onde os dados foram obtidos - temos aqui dados demográficos e informações de 891 dos 2208 segundo a enciclopédia Titanic, com base nessa informações levantarei questionamentos e respostas.\n",
    "\n",
    "Link Interessantes:\n",
    "- [Curso Data Science I da Udacity](https://br.udacity.com/course/python-fundamentos-data-science--nd110)\n",
    "- [Data set do Titanic](https://www.kaggle.com/c/titanic)\n",
    "- [Encyclopedia Titanica](https://www.encyclopedia-titanica.org/)\n",
    "- [Repositorio GitHub do Projeto](https://github.com/rodrigo-sm/Curso-DataScience-I)\n",
    "\n",
    "### Perguntas:\n",
    "- Qual foi a quantidade de pessoas que sobreviveram e morreram de cada sexo ?\n",
    "- Qual foi a proporção de sobreviventes pela quantidade de familiares no navio ?\n",
    "- Qual é a porcentagem de sobreviventes por cada faixa etaria ?\n",
    "- Qual foi o valor medio da passagem de cada classe ?\n",
    "- Qual é a porcentagem de sobreviventes de cada classe ?\n",
    "- Qual é a quantidade de passageiros que não pagou a passagem ? Eles sobreviveram ?"
   ]
  },
  {
   "cell_type": "markdown",
   "metadata": {},
   "source": [
    "# Leitura do arquivo csv e importação das bibliotecas"
   ]
  },
  {
   "cell_type": "code",
   "execution_count": 98,
   "metadata": {},
   "outputs": [],
   "source": [
    "import pandas as pd\n",
    "import numpy as np\n",
    "import matplotlib.pyplot as plt\n",
    "%matplotlib inline \n",
    "df_titanic = pd.read_csv('titanic-data-6.csv')"
   ]
  },
  {
   "cell_type": "markdown",
   "metadata": {},
   "source": [
    "# Tratamento dos dados"
   ]
  },
  {
   "cell_type": "markdown",
   "metadata": {},
   "source": [
    "#### Remoção de colunas que não serão utilizadas"
   ]
  },
  {
   "cell_type": "code",
   "execution_count": 99,
   "metadata": {},
   "outputs": [],
   "source": [
    "df_titanic.drop(['Ticket', 'Cabin', 'PassengerId'], axis=1, inplace=True)"
   ]
  },
  {
   "cell_type": "markdown",
   "metadata": {},
   "source": [
    "#### Tradução dos rotulos das colunas"
   ]
  },
  {
   "cell_type": "code",
   "execution_count": 100,
   "metadata": {},
   "outputs": [
    {
     "data": {
      "text/html": [
       "<div>\n",
       "<style scoped>\n",
       "    .dataframe tbody tr th:only-of-type {\n",
       "        vertical-align: middle;\n",
       "    }\n",
       "\n",
       "    .dataframe tbody tr th {\n",
       "        vertical-align: top;\n",
       "    }\n",
       "\n",
       "    .dataframe thead th {\n",
       "        text-align: right;\n",
       "    }\n",
       "</style>\n",
       "<table border=\"1\" class=\"dataframe\">\n",
       "  <thead>\n",
       "    <tr style=\"text-align: right;\">\n",
       "      <th></th>\n",
       "      <th>sobreviveu</th>\n",
       "      <th>classe</th>\n",
       "      <th>nome</th>\n",
       "      <th>sexo</th>\n",
       "      <th>idade</th>\n",
       "      <th>irmaos_conjuges</th>\n",
       "      <th>pais_criancas</th>\n",
       "      <th>tarifa</th>\n",
       "      <th>embarque</th>\n",
       "    </tr>\n",
       "  </thead>\n",
       "  <tbody>\n",
       "    <tr>\n",
       "      <th>0</th>\n",
       "      <td>0</td>\n",
       "      <td>3</td>\n",
       "      <td>Braund, Mr. Owen Harris</td>\n",
       "      <td>male</td>\n",
       "      <td>22.0</td>\n",
       "      <td>1</td>\n",
       "      <td>0</td>\n",
       "      <td>7.2500</td>\n",
       "      <td>S</td>\n",
       "    </tr>\n",
       "    <tr>\n",
       "      <th>1</th>\n",
       "      <td>1</td>\n",
       "      <td>1</td>\n",
       "      <td>Cumings, Mrs. John Bradley (Florence Briggs Th...</td>\n",
       "      <td>female</td>\n",
       "      <td>38.0</td>\n",
       "      <td>1</td>\n",
       "      <td>0</td>\n",
       "      <td>71.2833</td>\n",
       "      <td>C</td>\n",
       "    </tr>\n",
       "    <tr>\n",
       "      <th>2</th>\n",
       "      <td>1</td>\n",
       "      <td>3</td>\n",
       "      <td>Heikkinen, Miss. Laina</td>\n",
       "      <td>female</td>\n",
       "      <td>26.0</td>\n",
       "      <td>0</td>\n",
       "      <td>0</td>\n",
       "      <td>7.9250</td>\n",
       "      <td>S</td>\n",
       "    </tr>\n",
       "    <tr>\n",
       "      <th>3</th>\n",
       "      <td>1</td>\n",
       "      <td>1</td>\n",
       "      <td>Futrelle, Mrs. Jacques Heath (Lily May Peel)</td>\n",
       "      <td>female</td>\n",
       "      <td>35.0</td>\n",
       "      <td>1</td>\n",
       "      <td>0</td>\n",
       "      <td>53.1000</td>\n",
       "      <td>S</td>\n",
       "    </tr>\n",
       "    <tr>\n",
       "      <th>4</th>\n",
       "      <td>0</td>\n",
       "      <td>3</td>\n",
       "      <td>Allen, Mr. William Henry</td>\n",
       "      <td>male</td>\n",
       "      <td>35.0</td>\n",
       "      <td>0</td>\n",
       "      <td>0</td>\n",
       "      <td>8.0500</td>\n",
       "      <td>S</td>\n",
       "    </tr>\n",
       "  </tbody>\n",
       "</table>\n",
       "</div>"
      ],
      "text/plain": [
       "   sobreviveu  classe                                               nome  \\\n",
       "0           0       3                            Braund, Mr. Owen Harris   \n",
       "1           1       1  Cumings, Mrs. John Bradley (Florence Briggs Th...   \n",
       "2           1       3                             Heikkinen, Miss. Laina   \n",
       "3           1       1       Futrelle, Mrs. Jacques Heath (Lily May Peel)   \n",
       "4           0       3                           Allen, Mr. William Henry   \n",
       "\n",
       "     sexo  idade  irmaos_conjuges  pais_criancas   tarifa embarque  \n",
       "0    male   22.0                1              0   7.2500        S  \n",
       "1  female   38.0                1              0  71.2833        C  \n",
       "2  female   26.0                0              0   7.9250        S  \n",
       "3  female   35.0                1              0  53.1000        S  \n",
       "4    male   35.0                0              0   8.0500        S  "
      ]
     },
     "execution_count": 100,
     "metadata": {},
     "output_type": "execute_result"
    }
   ],
   "source": [
    "df_titanic.columns = ['sobreviveu', 'classe', 'nome', 'sexo', 'idade', 'irmaos_conjuges', 'pais_criancas', 'tarifa', 'embarque']\n",
    "df_titanic.head()"
   ]
  },
  {
   "cell_type": "markdown",
   "metadata": {},
   "source": [
    "#### Avaliar os rotulos das colunas, se existe dados faltantes e os tipos das variaveis"
   ]
  },
  {
   "cell_type": "code",
   "execution_count": 101,
   "metadata": {},
   "outputs": [
    {
     "name": "stdout",
     "output_type": "stream",
     "text": [
      "<class 'pandas.core.frame.DataFrame'>\n",
      "RangeIndex: 891 entries, 0 to 890\n",
      "Data columns (total 9 columns):\n",
      "sobreviveu         891 non-null int64\n",
      "classe             891 non-null int64\n",
      "nome               891 non-null object\n",
      "sexo               891 non-null object\n",
      "idade              714 non-null float64\n",
      "irmaos_conjuges    891 non-null int64\n",
      "pais_criancas      891 non-null int64\n",
      "tarifa             891 non-null float64\n",
      "embarque           889 non-null object\n",
      "dtypes: float64(2), int64(4), object(3)\n",
      "memory usage: 62.7+ KB\n"
     ]
    }
   ],
   "source": [
    "df_titanic.info()"
   ]
  },
  {
   "cell_type": "markdown",
   "metadata": {},
   "source": [
    "#### Prenchimento dos valores ausentes na coluna age com o numero -1"
   ]
  },
  {
   "cell_type": "code",
   "execution_count": 102,
   "metadata": {},
   "outputs": [
    {
     "name": "stdout",
     "output_type": "stream",
     "text": [
      "<class 'pandas.core.frame.DataFrame'>\n",
      "RangeIndex: 891 entries, 0 to 890\n",
      "Data columns (total 9 columns):\n",
      "sobreviveu         891 non-null int64\n",
      "classe             891 non-null int64\n",
      "nome               891 non-null object\n",
      "sexo               891 non-null object\n",
      "idade              891 non-null float64\n",
      "irmaos_conjuges    891 non-null int64\n",
      "pais_criancas      891 non-null int64\n",
      "tarifa             891 non-null float64\n",
      "embarque           889 non-null object\n",
      "dtypes: float64(2), int64(4), object(3)\n",
      "memory usage: 62.7+ KB\n"
     ]
    }
   ],
   "source": [
    "df_titanic['idade'].fillna(-1, inplace=True)\n",
    "df_titanic.info()"
   ]
  },
  {
   "cell_type": "markdown",
   "metadata": {},
   "source": [
    "# Pergunta 1: Qual foi a quantidade de pessoas que sobreviveram e morreram de cada sexo ?"
   ]
  },
  {
   "cell_type": "code",
   "execution_count": 103,
   "metadata": {},
   "outputs": [],
   "source": [
    "#  Encontra a quantidade de sobreviventes e mortos de cada sexo utilizando o groupby\n",
    "homem = df_titanic.query('sexo == \"male\"').groupby([\"sexo\", 'sobreviveu']).count()['classe']\n",
    "mulher = df_titanic.query('sexo == \"female\"').groupby([\"sexo\", 'sobreviveu']).count()['classe']"
   ]
  },
  {
   "cell_type": "code",
   "execution_count": 104,
   "metadata": {},
   "outputs": [
    {
     "data": {
      "text/plain": [
       "<matplotlib.legend.Legend at 0x1d76eed8eb8>"
      ]
     },
     "execution_count": 104,
     "metadata": {},
     "output_type": "execute_result"
    },
    {
     "data": {
      "image/png": "[encoded data removed]",
      "text/plain": [
       "<Figure size 432x288 with 1 Axes>"
      ]
     },
     "metadata": {
      "needs_background": "light"
     },
     "output_type": "display_data"
    }
   ],
   "source": [
    "# Criação do grafico\n",
    "ind = np.arange(len(homem))  # localização no eixo x dos grupos\n",
    "width = 0.35       # largura das barras\n",
    "\n",
    "# barras\n",
    "homem_bars = plt.bar(ind, homem, width, color='b', alpha=.7, label='Homem')\n",
    "mulher_bars = plt.bar(ind + width, mulher, width, color='r', alpha=.7, label='Mulher')\n",
    "\n",
    "\n",
    "plt.ylim([0, 600])\n",
    "# título e rótulos\n",
    "plt.ylabel('Quantitade')\n",
    "plt.xlabel('Sobreviveu?')\n",
    "plt.title('Quantidades de mortos/sobreviventes por cada sexo')\n",
    "labels = ['não', 'sim']  # rótulos dos marcadores no eixo x\n",
    "plt.xticks(ind + width / 2, labels)\n",
    "\n",
    "# função para posicionar os valores acima de cada barra vertical\n",
    "def posValor(lista, x, y):\n",
    "    for i, v in enumerate(lista):\n",
    "        plt.text(i + (x), v + (y), str(v), fontweight='bold')\n",
    "posValor(homem, -0.03, 10)\n",
    "posValor(mulher, 0.3, 10)\n",
    "\n",
    "# legenda\n",
    "plt.legend()"
   ]
  },
  {
   "cell_type": "markdown",
   "metadata": {},
   "source": [
    "# Pergunta 2: Qual foi a proporção de sobreviventes pela quantidade de familiares no navio ?"
   ]
  },
  {
   "cell_type": "code",
   "execution_count": 105,
   "metadata": {},
   "outputs": [
    {
     "data": {
      "image/png": "[encoded data removed]",
      "text/plain": [
       "<Figure size 432x288 with 1 Axes>"
      ]
     },
     "metadata": {
      "needs_background": "light"
     },
     "output_type": "display_data"
    }
   ],
   "source": [
    "# criação da variavel familia que vai armazena quantidade de pais/filhos/irmãos/cônjuges de cada passageiro\n",
    "familia = df_titanic['irmaos_conjuges'] + df_titanic['pais_criancas']\n",
    "\n",
    "# criação da coluna familiares que armazena a variavel familia\n",
    "df_titanic['familiares'] = familia\n",
    "\n",
    "# Encontra a proporção de sobreviventes por cada quantidade da variavel parch(número de pais/filhos a bordo)\n",
    "familiares_total = df_titanic.groupby([\"familiares\"]).count()[\"classe\"]\n",
    "familiares_survived = df_titanic.groupby([\"familiares\"]).sum()[\"sobreviveu\"]\n",
    "familiares_proportion = familiares_survived / familiares_total\n",
    "familiares_proportion = round(familiares_proportion, 2)\n",
    "\n",
    "# Cria o grafico de linha\n",
    "familiares_proportion.plot(kind=\"barh\", xlim=[0, 0.9])\n",
    "\n",
    "# Posiciona cada valor do lado de cada barra horizontal\n",
    "for i, v in enumerate(familiares_proportion):\n",
    "        plt.text(v + 0.009, i - 0.1, str(v), fontweight='bold')\n",
    "        \n",
    "# Titulos\n",
    "plt.title('Proporção de sobreviventes pela quantidade de familiares no navio')\n",
    "plt.xlabel('Quantidade de sobreviventes')\n",
    "plt.ylabel('Quantidade de familiares');"
   ]
  },
  {
   "cell_type": "markdown",
   "metadata": {},
   "source": [
    "# Pergunta 3: Qual é a porcentagem de sobreviventes por cada faixa etaria ?"
   ]
  },
  {
   "cell_type": "markdown",
   "metadata": {},
   "source": [
    "#### Faixa Etaria:\n",
    "- Primeira idade (nascimento, criança, adolescente): de 0 até 20 anos\n",
    "- Segunda idade (jovem + meia idade): 21 a 59 anos\n",
    "- Terceira idade (idoso): 60 a 80 anos"
   ]
  },
  {
   "cell_type": "code",
   "execution_count": 106,
   "metadata": {},
   "outputs": [],
   "source": [
    "# função para determinar a porcentagem de sobrevivência por faixa etaria\n",
    "def calcPorcAge(min, max):\n",
    "    idade = df_titanic.query('@min < idade <= @max')\n",
    "    porcentagem = idade['sobreviveu'].sum() * 100 // idade['sobreviveu'].count()\n",
    "    return porcentagem\n",
    "\n",
    "primeira_idade = calcPorcAge(0.0,20)\n",
    "segunda_idade = calcPorcAge(20, 59)\n",
    "terceira_idade = calcPorcAge(60, 80)"
   ]
  },
  {
   "cell_type": "code",
   "execution_count": 107,
   "metadata": {},
   "outputs": [
    {
     "data": {
      "text/plain": [
       "Text(0.5, 1.0, 'Porcentagem de sobreviventes por cada faixa etaria')"
      ]
     },
     "execution_count": 107,
     "metadata": {},
     "output_type": "execute_result"
    },
    {
     "data": {
      "image/png": "[encoded data removed]",
      "text/plain": [
       "<Figure size 432x288 with 1 Axes>"
      ]
     },
     "metadata": {},
     "output_type": "display_data"
    }
   ],
   "source": [
    "# criação do grafico de pizza\n",
    "plt.axis('equal')\n",
    "plt.pie(y_axis, labels = x_axis, autopct='%1.1f%%')\n",
    "plt.title('Porcentagem de sobreviventes por cada faixa etaria')"
   ]
  },
  {
   "cell_type": "markdown",
   "metadata": {},
   "source": [
    "# Pergunta 4: Qual foi o valor medio da passagem de cada classe ?"
   ]
  },
  {
   "cell_type": "code",
   "execution_count": 108,
   "metadata": {},
   "outputs": [
    {
     "name": "stdout",
     "output_type": "stream",
     "text": [
      "Preço medio:\n",
      "    1° Classe: 84.15 $\n",
      "    2° Classe: 20.66 $\n",
      "    3° Classe: 13.68 $\n",
      "\n"
     ]
    }
   ],
   "source": [
    "primeira_classe = round(df_titanic.query('classe == 1').mean()['tarifa'], 2)\n",
    "segunda_classe = round(df_titanic.query('classe == 2').mean()['tarifa'], 2)\n",
    "terceira_classe = round(df_titanic.query('classe == 3').mean()['tarifa'], 2)\n",
    "print('Preço medio:\\n    1° Classe: {} $\\n    2° Classe: {} $\\n    3° Classe: {} $\\n'.format(primeira_classe, segunda_classe, terceira_classe))"
   ]
  },
  {
   "cell_type": "markdown",
   "metadata": {},
   "source": [
    "# Pergunta 5: Qual é a porcentagem de sobreviventes de cada classe ?"
   ]
  },
  {
   "cell_type": "code",
   "execution_count": 109,
   "metadata": {},
   "outputs": [],
   "source": [
    "# determinar a porcentagem de sobreviventes por cada classe\n",
    "def calcPorClasse(num, df_titanic):\n",
    "    classe = df_titanic.query('classe == @num')\n",
    "    porcentagem = classe['sobreviveu'].sum() * 100 // classe['sobreviveu'].count()\n",
    "    return porcentagem\n",
    "primeira_classe = calcPorClasse(1, df_titanic)\n",
    "segunda_classe = calcPorClasse(2, df_titanic)\n",
    "terceira_classe = calcPorClasse(3, df_titanic)\n",
    "lista_classe = [primeira_classe, segunda_idade, terceira_idade]\n",
    "lista_nome = ['Primeira Classe', 'Segunda Classe', 'Terceira Classe']"
   ]
  },
  {
   "cell_type": "code",
   "execution_count": 110,
   "metadata": {},
   "outputs": [
    {
     "data": {
      "text/plain": [
       "Text(0.5, 1.0, 'Porcentagem de sobreviventes por cada classe')"
      ]
     },
     "execution_count": 110,
     "metadata": {},
     "output_type": "execute_result"
    },
    {
     "data": {
      "image/png": "[encoded data removed]",
      "text/plain": [
       "<Figure size 432x288 with 1 Axes>"
      ]
     },
     "metadata": {},
     "output_type": "display_data"
    }
   ],
   "source": [
    "# criação do grafico de pizza\n",
    "plt.axis('equal')\n",
    "plt.pie(lista_classe, labels = lista_nome, autopct='%1.1f%%')\n",
    "plt.title('Porcentagem de sobreviventes por cada classe')"
   ]
  },
  {
   "cell_type": "markdown",
   "metadata": {},
   "source": [
    "# Pergunta 6: Qual é a quantidade de passageiros que não pagou a passagem ?  Eles sobreviveram ?"
   ]
  },
  {
   "cell_type": "code",
   "execution_count": 111,
   "metadata": {},
   "outputs": [],
   "source": [
    "# determinar a quantidade de sobreviventes e mortos de passsageiros que nao pagaram a passagem\n",
    "gratuito = df_titanic.query('tarifa == 0').groupby([\"tarifa\", 'sobreviveu']).count()['classe']"
   ]
  },
  {
   "cell_type": "code",
   "execution_count": 112,
   "metadata": {},
   "outputs": [
    {
     "data": {
      "image/png": "[encoded data removed]",
      "text/plain": [
       "<Figure size 432x288 with 1 Axes>"
      ]
     },
     "metadata": {
      "needs_background": "light"
     },
     "output_type": "display_data"
    }
   ],
   "source": [
    "# criação do grafico de barra\n",
    "ind = np.arange(len(gratuito))  # localização no eixo x dos grupos\n",
    "width = 0.35       # largura das barras\n",
    "\n",
    "# barras\n",
    "gratuito_bars = plt.bar(ind, gratuito, color='b', alpha=.7, label='gratuito')\n",
    "\n",
    "\n",
    "plt.ylim([0, 20])\n",
    "# título e rótulos\n",
    "plt.ylabel('Quantitade')\n",
    "plt.xlabel('Sobreviveu?')\n",
    "plt.title('Quantidade de passageiros que não pagaram')\n",
    "labels = ['não', 'sim']  # rótulos dos marcadores no eixo x\n",
    "plt.xticks(ind + 0.05  / 2, labels)\n",
    "posValor(gratuito, -0.01, 1)\n"
   ]
  },
  {
   "cell_type": "markdown",
   "metadata": {},
   "source": [
    "## Conclusões\n",
    "Analisando os dos do acidente do Titanic, fica claro que os passageiros mais jovens e de classe superior tiveram preferência no momento de embarcarem nos botes salva vidas.\n",
    "Que o preço  medio da passagem de cada classe foi; 84.15 $ 1° Classe, 20.66 2° Classe e 13.68 3° Classe, sendo que 15 pessoas não pagaram e só uma delas sobreviveu.\n",
    "Que a quantidade de familiares foi um fator relevante para a sobrevivência dos passageiros, passageiros com poucos familiares foram mais propensos a sobreviver.\n",
    "Que dos 891 passageiros sobreviveram apenas 342, sendo 109 homens e 233 mulheres."
   ]
  },
  {
   "cell_type": "markdown",
   "metadata": {},
   "source": [
    "# Limitações\n",
    "Observou-se que algumas propriedas não possuiam valores para alguns do passageiros. Estas caracteristicas são Age, Cabin e Embarked.\n",
    "- Medida tomada:\n",
    "        * Age: Os valores ausentos foram preenchidos com o numero -1, porque não atrapalharia no processo de analise.\n",
    "        * Cabin e Embarked: Como estas características não foram consideradas na fase de análise optou-se por não alterá-las.\n",
    "        \n",
    "- Foi tambem feito o ajuste dos rotulos das colunas, colocando todas as letras em minusculos, sublinhado entre duas palavras e remoção de espaços nas beiradas se existisse."
   ]
  }
 ],
 "metadata": {
  "kernelspec": {
   "display_name": "Python 3",
   "language": "python",
   "name": "python3"
  },
  "language_info": {
   "codemirror_mode": {
    "name": "ipython",
    "version": 3
   },
   "file_extension": ".py",
   "mimetype": "text/x-python",
   "name": "python",
   "nbconvert_exporter": "python",
   "pygments_lexer": "ipython3",
   "version": "3.7.0"
  }
 },
 "nbformat": 4,
 "nbformat_minor": 2
}
